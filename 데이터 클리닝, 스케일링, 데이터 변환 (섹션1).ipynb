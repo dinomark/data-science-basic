{
 "cells": [
  {
   "cell_type": "code",
   "execution_count": 1,
   "id": "likely-survival",
   "metadata": {},
   "outputs": [],
   "source": [
    "# data preprocessing : 데이터를 분석에 사용할때 성능이 더 좋게 나오도록 데이터를 수정하거나 형태를 변형하는 작업\n",
    "#원시 데이터> 데이터 전처리 단계>데이터 분석 (머신러닝 모델)(X)> 분석목적 (설명, 군집화,예측(회귀, 분류),추천)(y)\n",
    "#데이터 전처리 종류: 데이터 클리닝(결측치 처리, 틀린값 처리), 스케일링, 이상치 처리, 데이터 변환"
   ]
  },
  {
   "cell_type": "code",
   "execution_count": 2,
   "id": "clear-mayor",
   "metadata": {},
   "outputs": [],
   "source": [
    "#데이터 클리닝(결측치 처리, 틀린값 처리)\n",
    "# 결측치 처리(nan(not a number)표시가 되어있는 데이터 처리)\n",
    "#1) 결측치가 포함된 샘플 버림\n",
    "#2)결측치 적절한 값으로 대체\n",
    "#3)결측치 처리를 다음 분석 단계로 넘어간다. 그대로 내버려둠\n",
    "\n",
    "#틀린값 처리\n",
    "#1) 틀린 값이 포함된 샘플 버림\n",
    "#2)틀린 값 적절한 값으로 대체\n",
    "#3)틀린 값 처리를 다음 분석 단계로 넘어간다. 그대로 내버려둠\n"
   ]
  },
  {
   "cell_type": "code",
   "execution_count": 4,
   "id": "covered-laptop",
   "metadata": {},
   "outputs": [],
   "source": [
    "import numpy as np\n",
    "import pandas as pd\n",
    "import matplotlib.pyplot as plt\n",
    "#이미지 고질화\n",
    "%matplotlib inline\n",
    "%config Inlinebackend.figure_format ='retina'"
   ]
  },
  {
   "cell_type": "code",
   "execution_count": 24,
   "id": "catholic-drinking",
   "metadata": {},
   "outputs": [],
   "source": [
    "import seaborn as sns"
   ]
  },
  {
   "cell_type": "code",
   "execution_count": 25,
   "id": "widespread-alliance",
   "metadata": {},
   "outputs": [],
   "source": [
    "##실습 데이터 ##\n",
    "#1)키와 몸무게 데이터 생성, 평균 170cm, 65kg, 표준편차 4cm,5kg"
   ]
  },
  {
   "cell_type": "code",
   "execution_count": 26,
   "id": "usual-starter",
   "metadata": {},
   "outputs": [
    {
     "data": {
      "text/html": [
       "<div>\n",
       "<style scoped>\n",
       "    .dataframe tbody tr th:only-of-type {\n",
       "        vertical-align: middle;\n",
       "    }\n",
       "\n",
       "    .dataframe tbody tr th {\n",
       "        vertical-align: top;\n",
       "    }\n",
       "\n",
       "    .dataframe thead th {\n",
       "        text-align: right;\n",
       "    }\n",
       "</style>\n",
       "<table border=\"1\" class=\"dataframe\">\n",
       "  <thead>\n",
       "    <tr style=\"text-align: right;\">\n",
       "      <th></th>\n",
       "      <th>height</th>\n",
       "      <th>weight</th>\n",
       "    </tr>\n",
       "  </thead>\n",
       "  <tbody>\n",
       "    <tr>\n",
       "      <th>0</th>\n",
       "      <td>169.64</td>\n",
       "      <td>66.15</td>\n",
       "    </tr>\n",
       "    <tr>\n",
       "      <th>1</th>\n",
       "      <td>170.12</td>\n",
       "      <td>64.70</td>\n",
       "    </tr>\n",
       "    <tr>\n",
       "      <th>2</th>\n",
       "      <td>168.00</td>\n",
       "      <td>64.05</td>\n",
       "    </tr>\n",
       "    <tr>\n",
       "      <th>3</th>\n",
       "      <td>170.72</td>\n",
       "      <td>60.90</td>\n",
       "    </tr>\n",
       "    <tr>\n",
       "      <th>4</th>\n",
       "      <td>167.48</td>\n",
       "      <td>56.05</td>\n",
       "    </tr>\n",
       "  </tbody>\n",
       "</table>\n",
       "</div>"
      ],
      "text/plain": [
       "   height  weight\n",
       "0  169.64   66.15\n",
       "1  170.12   64.70\n",
       "2  168.00   64.05\n",
       "3  170.72   60.90\n",
       "4  167.48   56.05"
      ]
     },
     "execution_count": 26,
     "metadata": {},
     "output_type": "execute_result"
    }
   ],
   "source": [
    "n_samples=1000\n",
    "height=4*np.random.randn(n_samples).round(2)+170\n",
    "weight=5*np.random.randn(n_samples).round(2)+65\n",
    "df_raw=pd.DataFrame({\"height\":height, \"weight\":weight})\n",
    "df_raw[:5]"
   ]
  },
  {
   "cell_type": "code",
   "execution_count": 31,
   "id": "declared-istanbul",
   "metadata": {},
   "outputs": [],
   "source": [
    "#사본 사용(원본 백업)\n",
    "df=df_raw.copy"
   ]
  },
  {
   "cell_type": "code",
   "execution_count": 32,
   "id": "thorough-retrieval",
   "metadata": {},
   "outputs": [
    {
     "name": "stderr",
     "output_type": "stream",
     "text": [
      "C:\\ProgramData\\Anaconda3-1\\lib\\site-packages\\seaborn\\distributions.py:2557: FutureWarning: `distplot` is a deprecated function and will be removed in a future version. Please adapt your code to use either `displot` (a figure-level function with similar flexibility) or `histplot` (an axes-level function for histograms).\n",
      "  warnings.warn(msg, FutureWarning)\n"
     ]
    },
    {
     "data": {
      "text/plain": [
       "<AxesSubplot:ylabel='Density'>"
      ]
     },
     "execution_count": 32,
     "metadata": {},
     "output_type": "execute_result"
    },
    {
     "data": {
      "image/png": "[encoded data removed]",
      "text/plain": [
       "<Figure size 432x288 with 1 Axes>"
      ]
     },
     "metadata": {
      "needs_background": "light"
     },
     "output_type": "display_data"
    }
   ],
   "source": [
    "#샘플의 확률 분포 근사 그래프 보기\n",
    "sns.distplot(df_raw[\"height\"].values)"
   ]
  },
  {
   "cell_type": "code",
   "execution_count": 34,
   "id": "civilian-frontier",
   "metadata": {},
   "outputs": [
    {
     "data": {
      "text/html": [
       "<div>\n",
       "<style scoped>\n",
       "    .dataframe tbody tr th:only-of-type {\n",
       "        vertical-align: middle;\n",
       "    }\n",
       "\n",
       "    .dataframe tbody tr th {\n",
       "        vertical-align: top;\n",
       "    }\n",
       "\n",
       "    .dataframe thead th {\n",
       "        text-align: right;\n",
       "    }\n",
       "</style>\n",
       "<table border=\"1\" class=\"dataframe\">\n",
       "  <thead>\n",
       "    <tr style=\"text-align: right;\">\n",
       "      <th></th>\n",
       "      <th>height</th>\n",
       "      <th>weight</th>\n",
       "    </tr>\n",
       "  </thead>\n",
       "  <tbody>\n",
       "    <tr>\n",
       "      <th>0</th>\n",
       "      <td>169.64</td>\n",
       "      <td>66.15</td>\n",
       "    </tr>\n",
       "    <tr>\n",
       "      <th>1</th>\n",
       "      <td>170.12</td>\n",
       "      <td>64.70</td>\n",
       "    </tr>\n",
       "    <tr>\n",
       "      <th>2</th>\n",
       "      <td>168.00</td>\n",
       "      <td>64.05</td>\n",
       "    </tr>\n",
       "    <tr>\n",
       "      <th>3</th>\n",
       "      <td>170.72</td>\n",
       "      <td>60.90</td>\n",
       "    </tr>\n",
       "    <tr>\n",
       "      <th>4</th>\n",
       "      <td>167.48</td>\n",
       "      <td>56.05</td>\n",
       "    </tr>\n",
       "  </tbody>\n",
       "</table>\n",
       "</div>"
      ],
      "text/plain": [
       "   height  weight\n",
       "0  169.64   66.15\n",
       "1  170.12   64.70\n",
       "2  168.00   64.05\n",
       "3  170.72   60.90\n",
       "4  167.48   56.05"
      ]
     },
     "execution_count": 34,
     "metadata": {},
     "output_type": "execute_result"
    }
   ],
   "source": [
    "#결측치 처리 실습(np.isnull()사용, 결측치 치환)\n",
    "df_raw[:5]"
   ]
  },
  {
   "cell_type": "code",
   "execution_count": 35,
   "id": "earlier-barrel",
   "metadata": {},
   "outputs": [
    {
     "data": {
      "text/html": [
       "<div>\n",
       "<style scoped>\n",
       "    .dataframe tbody tr th:only-of-type {\n",
       "        vertical-align: middle;\n",
       "    }\n",
       "\n",
       "    .dataframe tbody tr th {\n",
       "        vertical-align: top;\n",
       "    }\n",
       "\n",
       "    .dataframe thead th {\n",
       "        text-align: right;\n",
       "    }\n",
       "</style>\n",
       "<table border=\"1\" class=\"dataframe\">\n",
       "  <thead>\n",
       "    <tr style=\"text-align: right;\">\n",
       "      <th></th>\n",
       "      <th>height</th>\n",
       "      <th>weight</th>\n",
       "    </tr>\n",
       "  </thead>\n",
       "  <tbody>\n",
       "    <tr>\n",
       "      <th>0</th>\n",
       "      <td>169.64</td>\n",
       "      <td>66.15</td>\n",
       "    </tr>\n",
       "    <tr>\n",
       "      <th>1</th>\n",
       "      <td>170.12</td>\n",
       "      <td>64.70</td>\n",
       "    </tr>\n",
       "    <tr>\n",
       "      <th>2</th>\n",
       "      <td>168.00</td>\n",
       "      <td>NaN</td>\n",
       "    </tr>\n",
       "    <tr>\n",
       "      <th>3</th>\n",
       "      <td>170.72</td>\n",
       "      <td>60.90</td>\n",
       "    </tr>\n",
       "    <tr>\n",
       "      <th>4</th>\n",
       "      <td>167.48</td>\n",
       "      <td>56.05</td>\n",
       "    </tr>\n",
       "  </tbody>\n",
       "</table>\n",
       "</div>"
      ],
      "text/plain": [
       "   height  weight\n",
       "0  169.64   66.15\n",
       "1  170.12   64.70\n",
       "2  168.00     NaN\n",
       "3  170.72   60.90\n",
       "4  167.48   56.05"
      ]
     },
     "execution_count": 35,
     "metadata": {},
     "output_type": "execute_result"
    }
   ],
   "source": [
    "#임의의 값 하나를 결측치로 변경\n",
    "df_raw['weight'][2]=np.nan\n",
    "df_raw[:5]"
   ]
  },
  {
   "cell_type": "code",
   "execution_count": 37,
   "id": "corresponding-enlargement",
   "metadata": {},
   "outputs": [
    {
     "data": {
      "text/html": [
       "<div>\n",
       "<style scoped>\n",
       "    .dataframe tbody tr th:only-of-type {\n",
       "        vertical-align: middle;\n",
       "    }\n",
       "\n",
       "    .dataframe tbody tr th {\n",
       "        vertical-align: top;\n",
       "    }\n",
       "\n",
       "    .dataframe thead th {\n",
       "        text-align: right;\n",
       "    }\n",
       "</style>\n",
       "<table border=\"1\" class=\"dataframe\">\n",
       "  <thead>\n",
       "    <tr style=\"text-align: right;\">\n",
       "      <th></th>\n",
       "      <th>height</th>\n",
       "      <th>weight</th>\n",
       "    </tr>\n",
       "  </thead>\n",
       "  <tbody>\n",
       "    <tr>\n",
       "      <th>0</th>\n",
       "      <td>False</td>\n",
       "      <td>False</td>\n",
       "    </tr>\n",
       "    <tr>\n",
       "      <th>1</th>\n",
       "      <td>False</td>\n",
       "      <td>False</td>\n",
       "    </tr>\n",
       "    <tr>\n",
       "      <th>2</th>\n",
       "      <td>False</td>\n",
       "      <td>True</td>\n",
       "    </tr>\n",
       "    <tr>\n",
       "      <th>3</th>\n",
       "      <td>False</td>\n",
       "      <td>False</td>\n",
       "    </tr>\n",
       "    <tr>\n",
       "      <th>4</th>\n",
       "      <td>False</td>\n",
       "      <td>False</td>\n",
       "    </tr>\n",
       "    <tr>\n",
       "      <th>...</th>\n",
       "      <td>...</td>\n",
       "      <td>...</td>\n",
       "    </tr>\n",
       "    <tr>\n",
       "      <th>995</th>\n",
       "      <td>False</td>\n",
       "      <td>False</td>\n",
       "    </tr>\n",
       "    <tr>\n",
       "      <th>996</th>\n",
       "      <td>False</td>\n",
       "      <td>False</td>\n",
       "    </tr>\n",
       "    <tr>\n",
       "      <th>997</th>\n",
       "      <td>False</td>\n",
       "      <td>False</td>\n",
       "    </tr>\n",
       "    <tr>\n",
       "      <th>998</th>\n",
       "      <td>False</td>\n",
       "      <td>False</td>\n",
       "    </tr>\n",
       "    <tr>\n",
       "      <th>999</th>\n",
       "      <td>False</td>\n",
       "      <td>False</td>\n",
       "    </tr>\n",
       "  </tbody>\n",
       "</table>\n",
       "<p>1000 rows × 2 columns</p>\n",
       "</div>"
      ],
      "text/plain": [
       "     height  weight\n",
       "0     False   False\n",
       "1     False   False\n",
       "2     False    True\n",
       "3     False   False\n",
       "4     False   False\n",
       "..      ...     ...\n",
       "995   False   False\n",
       "996   False   False\n",
       "997   False   False\n",
       "998   False   False\n",
       "999   False   False\n",
       "\n",
       "[1000 rows x 2 columns]"
      ]
     },
     "execution_count": 37,
     "metadata": {},
     "output_type": "execute_result"
    }
   ],
   "source": [
    "#컬럼별 결측치 갯수 보기\n",
    "df_raw.isnull().sum()\n",
    "df_raw.isnull()"
   ]
  },
  {
   "cell_type": "code",
   "execution_count": 38,
   "id": "short-battlefield",
   "metadata": {},
   "outputs": [
    {
     "name": "stdout",
     "output_type": "stream",
     "text": [
      "(999, 2)\n"
     ]
    },
    {
     "data": {
      "text/html": [
       "<div>\n",
       "<style scoped>\n",
       "    .dataframe tbody tr th:only-of-type {\n",
       "        vertical-align: middle;\n",
       "    }\n",
       "\n",
       "    .dataframe tbody tr th {\n",
       "        vertical-align: top;\n",
       "    }\n",
       "\n",
       "    .dataframe thead th {\n",
       "        text-align: right;\n",
       "    }\n",
       "</style>\n",
       "<table border=\"1\" class=\"dataframe\">\n",
       "  <thead>\n",
       "    <tr style=\"text-align: right;\">\n",
       "      <th></th>\n",
       "      <th>height</th>\n",
       "      <th>weight</th>\n",
       "    </tr>\n",
       "  </thead>\n",
       "  <tbody>\n",
       "    <tr>\n",
       "      <th>0</th>\n",
       "      <td>169.64</td>\n",
       "      <td>66.15</td>\n",
       "    </tr>\n",
       "    <tr>\n",
       "      <th>1</th>\n",
       "      <td>170.12</td>\n",
       "      <td>64.70</td>\n",
       "    </tr>\n",
       "    <tr>\n",
       "      <th>3</th>\n",
       "      <td>170.72</td>\n",
       "      <td>60.90</td>\n",
       "    </tr>\n",
       "    <tr>\n",
       "      <th>4</th>\n",
       "      <td>167.48</td>\n",
       "      <td>56.05</td>\n",
       "    </tr>\n",
       "    <tr>\n",
       "      <th>5</th>\n",
       "      <td>164.80</td>\n",
       "      <td>61.45</td>\n",
       "    </tr>\n",
       "  </tbody>\n",
       "</table>\n",
       "</div>"
      ],
      "text/plain": [
       "   height  weight\n",
       "0  169.64   66.15\n",
       "1  170.12   64.70\n",
       "3  170.72   60.90\n",
       "4  167.48   56.05\n",
       "5  164.80   61.45"
      ]
     },
     "execution_count": 38,
     "metadata": {},
     "output_type": "execute_result"
    }
   ],
   "source": [
    "#결측치가 있는 행(샘플) 삭제하기\n",
    "df2=df_raw.dropna()\n",
    "print(df2.shape)\n",
    "df2[:5]"
   ]
  },
  {
   "cell_type": "code",
   "execution_count": 42,
   "id": "wicked-glenn",
   "metadata": {},
   "outputs": [
    {
     "name": "stdout",
     "output_type": "stream",
     "text": [
      "(1000, 2)\n",
      "64.84734734734741\n"
     ]
    },
    {
     "data": {
      "text/html": [
       "<div>\n",
       "<style scoped>\n",
       "    .dataframe tbody tr th:only-of-type {\n",
       "        vertical-align: middle;\n",
       "    }\n",
       "\n",
       "    .dataframe tbody tr th {\n",
       "        vertical-align: top;\n",
       "    }\n",
       "\n",
       "    .dataframe thead th {\n",
       "        text-align: right;\n",
       "    }\n",
       "</style>\n",
       "<table border=\"1\" class=\"dataframe\">\n",
       "  <thead>\n",
       "    <tr style=\"text-align: right;\">\n",
       "      <th></th>\n",
       "      <th>height</th>\n",
       "      <th>weight</th>\n",
       "    </tr>\n",
       "  </thead>\n",
       "  <tbody>\n",
       "    <tr>\n",
       "      <th>0</th>\n",
       "      <td>169.64</td>\n",
       "      <td>66.150000</td>\n",
       "    </tr>\n",
       "    <tr>\n",
       "      <th>1</th>\n",
       "      <td>170.12</td>\n",
       "      <td>64.700000</td>\n",
       "    </tr>\n",
       "    <tr>\n",
       "      <th>2</th>\n",
       "      <td>168.00</td>\n",
       "      <td>64.847347</td>\n",
       "    </tr>\n",
       "    <tr>\n",
       "      <th>3</th>\n",
       "      <td>170.72</td>\n",
       "      <td>60.900000</td>\n",
       "    </tr>\n",
       "    <tr>\n",
       "      <th>4</th>\n",
       "      <td>167.48</td>\n",
       "      <td>56.050000</td>\n",
       "    </tr>\n",
       "  </tbody>\n",
       "</table>\n",
       "</div>"
      ],
      "text/plain": [
       "   height     weight\n",
       "0  169.64  66.150000\n",
       "1  170.12  64.700000\n",
       "2  168.00  64.847347\n",
       "3  170.72  60.900000\n",
       "4  167.48  56.050000"
      ]
     },
     "execution_count": 42,
     "metadata": {},
     "output_type": "execute_result"
    }
   ],
   "source": [
    "#결측치를 다른 값으로 대체하기(아래는 몸무게 칼럼의 평균치로 대체한 예)\n",
    "df3=df_raw.fillna(df_raw['weight'].mean())\n",
    "print(df3.shape)\n",
    "print(df_raw['weight'].mean())\n",
    "df3[:5]"
   ]
  },
  {
   "cell_type": "code",
   "execution_count": 43,
   "id": "liable-academy",
   "metadata": {},
   "outputs": [
    {
     "data": {
      "text/html": [
       "<div>\n",
       "<style scoped>\n",
       "    .dataframe tbody tr th:only-of-type {\n",
       "        vertical-align: middle;\n",
       "    }\n",
       "\n",
       "    .dataframe tbody tr th {\n",
       "        vertical-align: top;\n",
       "    }\n",
       "\n",
       "    .dataframe thead th {\n",
       "        text-align: right;\n",
       "    }\n",
       "</style>\n",
       "<table border=\"1\" class=\"dataframe\">\n",
       "  <thead>\n",
       "    <tr style=\"text-align: right;\">\n",
       "      <th></th>\n",
       "      <th>height</th>\n",
       "      <th>weight</th>\n",
       "    </tr>\n",
       "  </thead>\n",
       "  <tbody>\n",
       "    <tr>\n",
       "      <th>0</th>\n",
       "      <td>169.64</td>\n",
       "      <td>66.15</td>\n",
       "    </tr>\n",
       "    <tr>\n",
       "      <th>1</th>\n",
       "      <td>170.12</td>\n",
       "      <td>64.70</td>\n",
       "    </tr>\n",
       "    <tr>\n",
       "      <th>2</th>\n",
       "      <td>168.00</td>\n",
       "      <td>0.00</td>\n",
       "    </tr>\n",
       "    <tr>\n",
       "      <th>3</th>\n",
       "      <td>170.72</td>\n",
       "      <td>60.90</td>\n",
       "    </tr>\n",
       "    <tr>\n",
       "      <th>4</th>\n",
       "      <td>167.48</td>\n",
       "      <td>56.05</td>\n",
       "    </tr>\n",
       "  </tbody>\n",
       "</table>\n",
       "</div>"
      ],
      "text/plain": [
       "   height  weight\n",
       "0  169.64   66.15\n",
       "1  170.12   64.70\n",
       "2  168.00    0.00\n",
       "3  170.72   60.90\n",
       "4  167.48   56.05"
      ]
     },
     "execution_count": 43,
     "metadata": {},
     "output_type": "execute_result"
    }
   ],
   "source": [
    "#결측칠르 0으로 대체하는 경우\n",
    "df_raw.fillna(0)[:5]"
   ]
  },
  {
   "cell_type": "code",
   "execution_count": 45,
   "id": "industrial-casino",
   "metadata": {},
   "outputs": [
    {
     "data": {
      "text/html": [
       "<div>\n",
       "<style scoped>\n",
       "    .dataframe tbody tr th:only-of-type {\n",
       "        vertical-align: middle;\n",
       "    }\n",
       "\n",
       "    .dataframe tbody tr th {\n",
       "        vertical-align: top;\n",
       "    }\n",
       "\n",
       "    .dataframe thead th {\n",
       "        text-align: right;\n",
       "    }\n",
       "</style>\n",
       "<table border=\"1\" class=\"dataframe\">\n",
       "  <thead>\n",
       "    <tr style=\"text-align: right;\">\n",
       "      <th></th>\n",
       "      <th>height</th>\n",
       "      <th>weight</th>\n",
       "    </tr>\n",
       "  </thead>\n",
       "  <tbody>\n",
       "    <tr>\n",
       "      <th>0</th>\n",
       "      <td>169.64</td>\n",
       "      <td>66.15</td>\n",
       "    </tr>\n",
       "    <tr>\n",
       "      <th>1</th>\n",
       "      <td>170.12</td>\n",
       "      <td>64.70</td>\n",
       "    </tr>\n",
       "    <tr>\n",
       "      <th>2</th>\n",
       "      <td>168.00</td>\n",
       "      <td>64.70</td>\n",
       "    </tr>\n",
       "    <tr>\n",
       "      <th>3</th>\n",
       "      <td>170.72</td>\n",
       "      <td>60.90</td>\n",
       "    </tr>\n",
       "    <tr>\n",
       "      <th>4</th>\n",
       "      <td>167.48</td>\n",
       "      <td>56.05</td>\n",
       "    </tr>\n",
       "  </tbody>\n",
       "</table>\n",
       "</div>"
      ],
      "text/plain": [
       "   height  weight\n",
       "0  169.64   66.15\n",
       "1  170.12   64.70\n",
       "2  168.00   64.70\n",
       "3  170.72   60.90\n",
       "4  167.48   56.05"
      ]
     },
     "execution_count": 45,
     "metadata": {},
     "output_type": "execute_result"
    }
   ],
   "source": [
    "#결측치를 바로 이전 값으로 대체하는 경우 (forward fill)\n",
    "df_raw.fillna(method=\"ffill\")[:5]"
   ]
  },
  {
   "cell_type": "code",
   "execution_count": 46,
   "id": "christian-holmes",
   "metadata": {},
   "outputs": [],
   "source": [
    "##스케일링(확률 분포 모양 안바뀜)\n",
    "#표준 스케일링 (z=(x-평균)/표준편차)"
   ]
  },
  {
   "cell_type": "code",
   "execution_count": 48,
   "id": "worthy-plate",
   "metadata": {},
   "outputs": [
    {
     "data": {
      "text/html": [
       "<div>\n",
       "<style scoped>\n",
       "    .dataframe tbody tr th:only-of-type {\n",
       "        vertical-align: middle;\n",
       "    }\n",
       "\n",
       "    .dataframe tbody tr th {\n",
       "        vertical-align: top;\n",
       "    }\n",
       "\n",
       "    .dataframe thead th {\n",
       "        text-align: right;\n",
       "    }\n",
       "</style>\n",
       "<table border=\"1\" class=\"dataframe\">\n",
       "  <thead>\n",
       "    <tr style=\"text-align: right;\">\n",
       "      <th></th>\n",
       "      <th>height</th>\n",
       "      <th>weight</th>\n",
       "      <th>h_sc</th>\n",
       "      <th>w_sc</th>\n",
       "    </tr>\n",
       "  </thead>\n",
       "  <tbody>\n",
       "    <tr>\n",
       "      <th>0</th>\n",
       "      <td>169.64</td>\n",
       "      <td>66.15</td>\n",
       "      <td>-0.054920</td>\n",
       "      <td>0.250791</td>\n",
       "    </tr>\n",
       "    <tr>\n",
       "      <th>1</th>\n",
       "      <td>170.12</td>\n",
       "      <td>64.70</td>\n",
       "      <td>0.063420</td>\n",
       "      <td>-0.028368</td>\n",
       "    </tr>\n",
       "    <tr>\n",
       "      <th>2</th>\n",
       "      <td>168.00</td>\n",
       "      <td>NaN</td>\n",
       "      <td>-0.459248</td>\n",
       "      <td>NaN</td>\n",
       "    </tr>\n",
       "    <tr>\n",
       "      <th>3</th>\n",
       "      <td>170.72</td>\n",
       "      <td>60.90</td>\n",
       "      <td>0.211346</td>\n",
       "      <td>-0.759957</td>\n",
       "    </tr>\n",
       "    <tr>\n",
       "      <th>4</th>\n",
       "      <td>167.48</td>\n",
       "      <td>56.05</td>\n",
       "      <td>-0.587450</td>\n",
       "      <td>-1.693695</td>\n",
       "    </tr>\n",
       "  </tbody>\n",
       "</table>\n",
       "</div>"
      ],
      "text/plain": [
       "   height  weight      h_sc      w_sc\n",
       "0  169.64   66.15 -0.054920  0.250791\n",
       "1  170.12   64.70  0.063420 -0.028368\n",
       "2  168.00     NaN -0.459248       NaN\n",
       "3  170.72   60.90  0.211346 -0.759957\n",
       "4  167.48   56.05 -0.587450 -1.693695"
      ]
     },
     "execution_count": 48,
     "metadata": {},
     "output_type": "execute_result"
    }
   ],
   "source": [
    "from sklearn.preprocessing import StandardScaler\n",
    "scale=StandardScaler()\n",
    "df_raw[['h_sc','w_sc']]=scale.fit_transform(df_raw[['height','weight']])\n",
    "df_raw[:5]"
   ]
  },
  {
   "cell_type": "code",
   "execution_count": 49,
   "id": "acquired-salmon",
   "metadata": {},
   "outputs": [
    {
     "data": {
      "text/plain": [
       "(array([169.86276   ,  64.84734735]), array([4.05610517, 5.19417413]))"
      ]
     },
     "execution_count": 49,
     "metadata": {},
     "output_type": "execute_result"
    }
   ],
   "source": [
    "scale.mean_, scale.scale_"
   ]
  },
  {
   "cell_type": "code",
   "execution_count": 50,
   "id": "aerial-pastor",
   "metadata": {},
   "outputs": [
    {
     "data": {
      "text/plain": [
       "169.86276"
      ]
     },
     "execution_count": 50,
     "metadata": {},
     "output_type": "execute_result"
    }
   ],
   "source": [
    "scale.mean_[0]"
   ]
  },
  {
   "cell_type": "code",
   "execution_count": 51,
   "id": "funky-ecuador",
   "metadata": {},
   "outputs": [
    {
     "data": {
      "text/plain": [
       "array([[169.64,  66.15],\n",
       "       [170.12,  64.7 ],\n",
       "       [168.  ,    nan],\n",
       "       [170.72,  60.9 ],\n",
       "       [167.48,  56.05]])"
      ]
     },
     "execution_count": 51,
     "metadata": {},
     "output_type": "execute_result"
    }
   ],
   "source": [
    "scale.inverse_transform(df_raw[[\"h_sc\",\"w_sc\"]])[:5]"
   ]
  },
  {
   "cell_type": "code",
   "execution_count": 52,
   "id": "affecting-naples",
   "metadata": {},
   "outputs": [
    {
     "data": {
      "text/plain": [
       "<AxesSubplot:ylabel='Density'>"
      ]
     },
     "execution_count": 52,
     "metadata": {},
     "output_type": "execute_result"
    },
    {
     "data": {
      "image/png": "[encoded data removed]",
      "text/plain": [
       "<Figure size 432x288 with 1 Axes>"
      ]
     },
     "metadata": {
      "needs_background": "light"
     },
     "output_type": "display_data"
    }
   ],
   "source": [
    "#원래 키, 몸무게의 데이터의 확률 분포 보기(kernel density estimate 함수 사용(kde))\n",
    "df_raw[[\"height\",\"weight\"]].plot.kde()"
   ]
  },
  {
   "cell_type": "code",
   "execution_count": 53,
   "id": "macro-fever",
   "metadata": {},
   "outputs": [
    {
     "data": {
      "text/plain": [
       "(array([ 2.,  3.,  3.,  7., 21., 17., 26., 50., 72., 77., 99., 97., 86.,\n",
       "        97., 83., 66., 65., 59., 26., 23.,  8.,  5.,  4.,  2.,  2.]),\n",
       " array([157.16  , 158.1872, 159.2144, 160.2416, 161.2688, 162.296 ,\n",
       "        163.3232, 164.3504, 165.3776, 166.4048, 167.432 , 168.4592,\n",
       "        169.4864, 170.5136, 171.5408, 172.568 , 173.5952, 174.6224,\n",
       "        175.6496, 176.6768, 177.704 , 178.7312, 179.7584, 180.7856,\n",
       "        181.8128, 182.84  ]),\n",
       " <BarContainer object of 25 artists>)"
      ]
     },
     "execution_count": 53,
     "metadata": {},
     "output_type": "execute_result"
    },
    {
     "data": {
      "image/png": "[encoded data removed]",
      "text/plain": [
       "<Figure size 432x288 with 1 Axes>"
      ]
     },
     "metadata": {
      "needs_background": "light"
     },
     "output_type": "display_data"
    }
   ],
   "source": [
    "plt.hist(df_raw.height, bins=25)"
   ]
  },
  {
   "cell_type": "code",
   "execution_count": 54,
   "id": "applied-blackberry",
   "metadata": {},
   "outputs": [
    {
     "data": {
      "text/plain": [
       "<AxesSubplot:ylabel='Density'>"
      ]
     },
     "execution_count": 54,
     "metadata": {},
     "output_type": "execute_result"
    },
    {
     "data": {
      "image/png": "[encoded data removed]",
      "text/plain": [
       "<Figure size 432x288 with 1 Axes>"
      ]
     },
     "metadata": {
      "needs_background": "light"
     },
     "output_type": "display_data"
    }
   ],
   "source": [
    "#표준 스케일링된 데이터의 확률 분포 보기- 정규분포로 생성\n",
    "df_raw[[\"h_sc\",\"w_sc\"]].plot.kde()"
   ]
  },
  {
   "cell_type": "code",
   "execution_count": 55,
   "id": "extended-startup",
   "metadata": {},
   "outputs": [
    {
     "data": {
      "text/html": [
       "<div>\n",
       "<style scoped>\n",
       "    .dataframe tbody tr th:only-of-type {\n",
       "        vertical-align: middle;\n",
       "    }\n",
       "\n",
       "    .dataframe tbody tr th {\n",
       "        vertical-align: top;\n",
       "    }\n",
       "\n",
       "    .dataframe thead th {\n",
       "        text-align: right;\n",
       "    }\n",
       "</style>\n",
       "<table border=\"1\" class=\"dataframe\">\n",
       "  <thead>\n",
       "    <tr style=\"text-align: right;\">\n",
       "      <th></th>\n",
       "      <th>height</th>\n",
       "      <th>weight</th>\n",
       "      <th>h_sc</th>\n",
       "      <th>w_sc</th>\n",
       "      <th>h_mims</th>\n",
       "      <th>w_mima</th>\n",
       "    </tr>\n",
       "  </thead>\n",
       "  <tbody>\n",
       "    <tr>\n",
       "      <th>0</th>\n",
       "      <td>169.64</td>\n",
       "      <td>66.15</td>\n",
       "      <td>-0.054920</td>\n",
       "      <td>0.250791</td>\n",
       "      <td>0.485981</td>\n",
       "      <td>0.520280</td>\n",
       "    </tr>\n",
       "    <tr>\n",
       "      <th>1</th>\n",
       "      <td>170.12</td>\n",
       "      <td>64.70</td>\n",
       "      <td>0.063420</td>\n",
       "      <td>-0.028368</td>\n",
       "      <td>0.504673</td>\n",
       "      <td>0.479720</td>\n",
       "    </tr>\n",
       "    <tr>\n",
       "      <th>2</th>\n",
       "      <td>168.00</td>\n",
       "      <td>NaN</td>\n",
       "      <td>-0.459248</td>\n",
       "      <td>NaN</td>\n",
       "      <td>0.422118</td>\n",
       "      <td>NaN</td>\n",
       "    </tr>\n",
       "    <tr>\n",
       "      <th>3</th>\n",
       "      <td>170.72</td>\n",
       "      <td>60.90</td>\n",
       "      <td>0.211346</td>\n",
       "      <td>-0.759957</td>\n",
       "      <td>0.528037</td>\n",
       "      <td>0.373427</td>\n",
       "    </tr>\n",
       "    <tr>\n",
       "      <th>4</th>\n",
       "      <td>167.48</td>\n",
       "      <td>56.05</td>\n",
       "      <td>-0.587450</td>\n",
       "      <td>-1.693695</td>\n",
       "      <td>0.401869</td>\n",
       "      <td>0.237762</td>\n",
       "    </tr>\n",
       "  </tbody>\n",
       "</table>\n",
       "</div>"
      ],
      "text/plain": [
       "   height  weight      h_sc      w_sc    h_mims    w_mima\n",
       "0  169.64   66.15 -0.054920  0.250791  0.485981  0.520280\n",
       "1  170.12   64.70  0.063420 -0.028368  0.504673  0.479720\n",
       "2  168.00     NaN -0.459248       NaN  0.422118       NaN\n",
       "3  170.72   60.90  0.211346 -0.759957  0.528037  0.373427\n",
       "4  167.48   56.05 -0.587450 -1.693695  0.401869  0.237762"
      ]
     },
     "execution_count": 55,
     "metadata": {},
     "output_type": "execute_result"
    }
   ],
   "source": [
    "## Min-Max 스케일링 (데이터의 최소값이 0, 최대값이 1이 되도록 조정)\n",
    "from sklearn.preprocessing import MinMaxScaler\n",
    "minmax=MinMaxScaler()\n",
    "df_raw[['h_mims','w_mima']]=minmax.fit_transform(df_raw[['height','weight']])\n",
    "df_raw[:5]"
   ]
  },
  {
   "cell_type": "code",
   "execution_count": 57,
   "id": "taken-consistency",
   "metadata": {},
   "outputs": [
    {
     "data": {
      "text/plain": [
       "<AxesSubplot:ylabel='Density'>"
      ]
     },
     "execution_count": 57,
     "metadata": {},
     "output_type": "execute_result"
    },
    {
     "data": {
      "image/png": "[encoded data removed]",
      "text/plain": [
       "<Figure size 432x288 with 1 Axes>"
      ]
     },
     "metadata": {
      "needs_background": "light"
     },
     "output_type": "display_data"
    }
   ],
   "source": [
    "#min-max 스케일링 된 데이터의 확률 분포\n",
    "df_raw[[\"h_mims\",\"w_mima\"]].plot.kde()"
   ]
  },
  {
   "cell_type": "code",
   "execution_count": 58,
   "id": "mathematical-intelligence",
   "metadata": {},
   "outputs": [],
   "source": [
    "#이상치가 있을 시, 두 스케일링 결과 값의 변화 정도가 크게 다르다"
   ]
  },
  {
   "cell_type": "code",
   "execution_count": 59,
   "id": "seventh-playing",
   "metadata": {},
   "outputs": [],
   "source": [
    "height_1=height.copy()\n",
    "height_1[0]=200"
   ]
  },
  {
   "cell_type": "code",
   "execution_count": 60,
   "id": "opponent-globe",
   "metadata": {},
   "outputs": [
    {
     "data": {
      "text/html": [
       "<div>\n",
       "<style scoped>\n",
       "    .dataframe tbody tr th:only-of-type {\n",
       "        vertical-align: middle;\n",
       "    }\n",
       "\n",
       "    .dataframe tbody tr th {\n",
       "        vertical-align: top;\n",
       "    }\n",
       "\n",
       "    .dataframe thead th {\n",
       "        text-align: right;\n",
       "    }\n",
       "</style>\n",
       "<table border=\"1\" class=\"dataframe\">\n",
       "  <thead>\n",
       "    <tr style=\"text-align: right;\">\n",
       "      <th></th>\n",
       "      <th>height</th>\n",
       "      <th>weight</th>\n",
       "      <th>h_sc</th>\n",
       "      <th>w_sc</th>\n",
       "      <th>h_mims</th>\n",
       "      <th>w_mima</th>\n",
       "      <th>height_1</th>\n",
       "    </tr>\n",
       "  </thead>\n",
       "  <tbody>\n",
       "    <tr>\n",
       "      <th>0</th>\n",
       "      <td>169.64</td>\n",
       "      <td>66.15</td>\n",
       "      <td>-0.054920</td>\n",
       "      <td>0.250791</td>\n",
       "      <td>0.485981</td>\n",
       "      <td>0.52028</td>\n",
       "      <td>200.00</td>\n",
       "    </tr>\n",
       "    <tr>\n",
       "      <th>1</th>\n",
       "      <td>170.12</td>\n",
       "      <td>64.70</td>\n",
       "      <td>0.063420</td>\n",
       "      <td>-0.028368</td>\n",
       "      <td>0.504673</td>\n",
       "      <td>0.47972</td>\n",
       "      <td>170.12</td>\n",
       "    </tr>\n",
       "    <tr>\n",
       "      <th>2</th>\n",
       "      <td>168.00</td>\n",
       "      <td>NaN</td>\n",
       "      <td>-0.459248</td>\n",
       "      <td>NaN</td>\n",
       "      <td>0.422118</td>\n",
       "      <td>NaN</td>\n",
       "      <td>168.00</td>\n",
       "    </tr>\n",
       "  </tbody>\n",
       "</table>\n",
       "</div>"
      ],
      "text/plain": [
       "   height  weight      h_sc      w_sc    h_mims   w_mima  height_1\n",
       "0  169.64   66.15 -0.054920  0.250791  0.485981  0.52028    200.00\n",
       "1  170.12   64.70  0.063420 -0.028368  0.504673  0.47972    170.12\n",
       "2  168.00     NaN -0.459248       NaN  0.422118      NaN    168.00"
      ]
     },
     "execution_count": 60,
     "metadata": {},
     "output_type": "execute_result"
    }
   ],
   "source": [
    "df_raw[\"height_1\"]=height_1\n",
    "df_raw[:3]"
   ]
  },
  {
   "cell_type": "code",
   "execution_count": 64,
   "id": "ruled-sociology",
   "metadata": {
    "scrolled": true
   },
   "outputs": [
    {
     "data": {
      "text/html": [
       "<div>\n",
       "<style scoped>\n",
       "    .dataframe tbody tr th:only-of-type {\n",
       "        vertical-align: middle;\n",
       "    }\n",
       "\n",
       "    .dataframe tbody tr th {\n",
       "        vertical-align: top;\n",
       "    }\n",
       "\n",
       "    .dataframe thead th {\n",
       "        text-align: right;\n",
       "    }\n",
       "</style>\n",
       "<table border=\"1\" class=\"dataframe\">\n",
       "  <thead>\n",
       "    <tr style=\"text-align: right;\">\n",
       "      <th></th>\n",
       "      <th>height</th>\n",
       "      <th>weight</th>\n",
       "      <th>h_sc</th>\n",
       "      <th>w_sc</th>\n",
       "      <th>h_mims</th>\n",
       "      <th>w_mima</th>\n",
       "      <th>height_1</th>\n",
       "      <th>h_1_sc</th>\n",
       "    </tr>\n",
       "  </thead>\n",
       "  <tbody>\n",
       "    <tr>\n",
       "      <th>0</th>\n",
       "      <td>169.64</td>\n",
       "      <td>66.15</td>\n",
       "      <td>-0.054920</td>\n",
       "      <td>0.250791</td>\n",
       "      <td>0.485981</td>\n",
       "      <td>0.52028</td>\n",
       "      <td>200.00</td>\n",
       "      <td>7.226034</td>\n",
       "    </tr>\n",
       "    <tr>\n",
       "      <th>1</th>\n",
       "      <td>170.12</td>\n",
       "      <td>64.70</td>\n",
       "      <td>0.063420</td>\n",
       "      <td>-0.028368</td>\n",
       "      <td>0.504673</td>\n",
       "      <td>0.47972</td>\n",
       "      <td>170.12</td>\n",
       "      <td>0.054454</td>\n",
       "    </tr>\n",
       "    <tr>\n",
       "      <th>2</th>\n",
       "      <td>168.00</td>\n",
       "      <td>NaN</td>\n",
       "      <td>-0.459248</td>\n",
       "      <td>NaN</td>\n",
       "      <td>0.422118</td>\n",
       "      <td>NaN</td>\n",
       "      <td>168.00</td>\n",
       "      <td>-0.454373</td>\n",
       "    </tr>\n",
       "  </tbody>\n",
       "</table>\n",
       "</div>"
      ],
      "text/plain": [
       "   height  weight      h_sc      w_sc    h_mims   w_mima  height_1    h_1_sc\n",
       "0  169.64   66.15 -0.054920  0.250791  0.485981  0.52028    200.00  7.226034\n",
       "1  170.12   64.70  0.063420 -0.028368  0.504673  0.47972    170.12  0.054454\n",
       "2  168.00     NaN -0.459248       NaN  0.422118      NaN    168.00 -0.454373"
      ]
     },
     "execution_count": 64,
     "metadata": {},
     "output_type": "execute_result"
    }
   ],
   "source": [
    "#이상치가 포함된 데이터(컬럼)에 표준 스케일링을 적용\n",
    "df_raw['h_1_sc']=scale.fit_transform(df_raw[['height_1']])\n",
    "df_raw[:3]"
   ]
  },
  {
   "cell_type": "code",
   "execution_count": 66,
   "id": "third-watson",
   "metadata": {},
   "outputs": [
    {
     "data": {
      "text/html": [
       "<div>\n",
       "<style scoped>\n",
       "    .dataframe tbody tr th:only-of-type {\n",
       "        vertical-align: middle;\n",
       "    }\n",
       "\n",
       "    .dataframe tbody tr th {\n",
       "        vertical-align: top;\n",
       "    }\n",
       "\n",
       "    .dataframe thead th {\n",
       "        text-align: right;\n",
       "    }\n",
       "</style>\n",
       "<table border=\"1\" class=\"dataframe\">\n",
       "  <thead>\n",
       "    <tr style=\"text-align: right;\">\n",
       "      <th></th>\n",
       "      <th>height</th>\n",
       "      <th>weight</th>\n",
       "      <th>h_sc</th>\n",
       "      <th>w_sc</th>\n",
       "      <th>h_mims</th>\n",
       "      <th>w_mima</th>\n",
       "      <th>height_1</th>\n",
       "      <th>h_1_sc</th>\n",
       "      <th>h_1_mima</th>\n",
       "    </tr>\n",
       "  </thead>\n",
       "  <tbody>\n",
       "    <tr>\n",
       "      <th>0</th>\n",
       "      <td>169.64</td>\n",
       "      <td>66.15</td>\n",
       "      <td>-0.054920</td>\n",
       "      <td>0.250791</td>\n",
       "      <td>0.485981</td>\n",
       "      <td>0.52028</td>\n",
       "      <td>200.00</td>\n",
       "      <td>7.226034</td>\n",
       "      <td>1.000000</td>\n",
       "    </tr>\n",
       "    <tr>\n",
       "      <th>1</th>\n",
       "      <td>170.12</td>\n",
       "      <td>64.70</td>\n",
       "      <td>0.063420</td>\n",
       "      <td>-0.028368</td>\n",
       "      <td>0.504673</td>\n",
       "      <td>0.47972</td>\n",
       "      <td>170.12</td>\n",
       "      <td>0.054454</td>\n",
       "      <td>0.302521</td>\n",
       "    </tr>\n",
       "    <tr>\n",
       "      <th>2</th>\n",
       "      <td>168.00</td>\n",
       "      <td>NaN</td>\n",
       "      <td>-0.459248</td>\n",
       "      <td>NaN</td>\n",
       "      <td>0.422118</td>\n",
       "      <td>NaN</td>\n",
       "      <td>168.00</td>\n",
       "      <td>-0.454373</td>\n",
       "      <td>0.253035</td>\n",
       "    </tr>\n",
       "  </tbody>\n",
       "</table>\n",
       "</div>"
      ],
      "text/plain": [
       "   height  weight      h_sc      w_sc    h_mims   w_mima  height_1    h_1_sc  \\\n",
       "0  169.64   66.15 -0.054920  0.250791  0.485981  0.52028    200.00  7.226034   \n",
       "1  170.12   64.70  0.063420 -0.028368  0.504673  0.47972    170.12  0.054454   \n",
       "2  168.00     NaN -0.459248       NaN  0.422118      NaN    168.00 -0.454373   \n",
       "\n",
       "   h_1_mima  \n",
       "0  1.000000  \n",
       "1  0.302521  \n",
       "2  0.253035  "
      ]
     },
     "execution_count": 66,
     "metadata": {},
     "output_type": "execute_result"
    }
   ],
   "source": [
    "#이상치가 있는 데이터에 min-max 스케일링 적용\n",
    "df_raw['h_1_mima']=minmax.fit_transform(df_raw[['height_1']])\n",
    "df_raw[:3]"
   ]
  },
  {
   "cell_type": "code",
   "execution_count": 68,
   "id": "interested-surveillance",
   "metadata": {},
   "outputs": [
    {
     "data": {
      "text/plain": [
       "<AxesSubplot:ylabel='Density'>"
      ]
     },
     "execution_count": 68,
     "metadata": {},
     "output_type": "execute_result"
    },
    {
     "data": {
      "image/png": "[encoded data removed]",
      "text/plain": [
       "<Figure size 432x288 with 1 Axes>"
      ]
     },
     "metadata": {
      "needs_background": "light"
     },
     "output_type": "display_data"
    }
   ],
   "source": [
    "# 이상치 하나 떄문에 min-max 스케일링 데이터의 다른 값들이 크게 달라짐.\n",
    "#크거나 작은 단 한개의 샘플추가로도 다른 샘플들의 값이 크게 달라질수 있음\n",
    "#여기서는 200인 키의 값이 1로 환산\n",
    "df_raw[['h_mims','h_1_mima']].plot.kde()"
   ]
  },
  {
   "cell_type": "code",
   "execution_count": 69,
   "id": "tight-playing",
   "metadata": {},
   "outputs": [],
   "source": [
    "## 이상치 처리##\n",
    "#이상치 처리의 목적 1) 이상치를 제거하여 데이터 분석의 정확도를 높이려는 경우(중요)\n",
    "#이상치 처리의 목적 2)이상치를 찾는 것 자체가 목적인 경우\n",
    "#ex)크레딧 카드 사용 기록시 비정상적인 행동 발견 할시,"
   ]
  },
  {
   "cell_type": "code",
   "execution_count": 70,
   "id": "destroyed-excitement",
   "metadata": {},
   "outputs": [
    {
     "data": {
      "text/plain": [
       "<AxesSubplot:>"
      ]
     },
     "execution_count": 70,
     "metadata": {},
     "output_type": "execute_result"
    },
    {
     "data": {
      "image/png": "[encoded data removed]",
      "text/plain": [
       "<Figure size 432x288 with 1 Axes>"
      ]
     },
     "metadata": {
      "needs_background": "light"
     },
     "output_type": "display_data"
    }
   ],
   "source": [
    "#이상치가 없는 경우와 있는 경우의 박스플롯\n",
    "df_raw[[\"height\",\"height_1\"]].boxplot()"
   ]
  },
  {
   "cell_type": "code",
   "execution_count": 71,
   "id": "bridal-database",
   "metadata": {},
   "outputs": [
    {
     "data": {
      "text/plain": [
       "<AxesSubplot:>"
      ]
     },
     "execution_count": 71,
     "metadata": {},
     "output_type": "execute_result"
    },
    {
     "data": {
      "image/png": "[encoded data removed]",
      "text/plain": [
       "<Figure size 432x288 with 1 Axes>"
      ]
     },
     "metadata": {
      "needs_background": "light"
     },
     "output_type": "display_data"
    }
   ],
   "source": [
    "# 스케일링된 데이터를 비교하기 (키 2m인 사람은 7시그마 밖에 존재: 4cm*7= 28cm)\n",
    "df_raw[[\"h_sc\",\"h_1_sc\"]].boxplot()"
   ]
  },
  {
   "cell_type": "code",
   "execution_count": 72,
   "id": "sticky-gates",
   "metadata": {},
   "outputs": [],
   "source": [
    "## 데이터 변환 ## \n",
    "#로그변환>어떤 변수는 로그를 취해야 입출력 관계에서 선형적인 변화(효과)를 표현하는 경우\n",
    "#예: 돈, 생물학적 자극과 반응 관계(청각, 미각, 후각, 압력 등)\n",
    "#데이터 분석에서는 입출력 관계가 선형적일때 가장 잘 예측(선형적일수록 예측이 잘 된다)"
   ]
  },
  {
   "cell_type": "code",
   "execution_count": 74,
   "id": "allied-recommendation",
   "metadata": {},
   "outputs": [
    {
     "data": {
      "text/plain": [
       "[<matplotlib.lines.Line2D at 0x209e58f7760>]"
      ]
     },
     "execution_count": 74,
     "metadata": {},
     "output_type": "execute_result"
    },
    {
     "data": {
      "image/png": "[encoded data removed]",
      "text/plain": [
       "<Figure size 432x288 with 1 Axes>"
      ]
     },
     "metadata": {
      "needs_background": "light"
     },
     "output_type": "display_data"
    }
   ],
   "source": [
    "#돈의 수입과 만족도의 관계는 대체로 로그 함수를 따른다( 생물학적 반응)\n",
    "#(해석)로그 함수의 기울기는 1/x이다. 즉, 만족도 증가는 현재 가진 돈의 크기에 반비례 함\n",
    "x=np.linspace(1,1000000,200)\n",
    "y=np.log(x)\n",
    "plt.plot(x,y)"
   ]
  },
  {
   "cell_type": "code",
   "execution_count": 75,
   "id": "angry-longer",
   "metadata": {},
   "outputs": [
    {
     "data": {
      "text/plain": [
       "[<matplotlib.lines.Line2D at 0x209e594c910>]"
      ]
     },
     "execution_count": 75,
     "metadata": {},
     "output_type": "execute_result"
    },
    {
     "data": {
      "image/png": "[encoded data removed]",
      "text/plain": [
       "<Figure size 432x288 with 1 Axes>"
      ]
     },
     "metadata": {
      "needs_background": "light"
     },
     "output_type": "display_data"
    }
   ],
   "source": [
    "# x축을 로그 스케일로 그리면 (로그를 취하면) 입출력 관계가 선형적이 된다\n",
    "plt.xscale('log')\n",
    "plt.plot(x,y)"
   ]
  },
  {
   "cell_type": "code",
   "execution_count": 76,
   "id": "civilian-courtesy",
   "metadata": {},
   "outputs": [],
   "source": [
    "## log-normal 분포##\n",
    "#어떤 값에 로그를 취하면 정규분폴르 갖는 특성의 데이터 (예: 국가별 수출액 분포)"
   ]
  },
  {
   "cell_type": "code",
   "execution_count": 77,
   "id": "stuffed-camel",
   "metadata": {},
   "outputs": [
    {
     "data": {
      "text/html": [
       "<div>\n",
       "<style scoped>\n",
       "    .dataframe tbody tr th:only-of-type {\n",
       "        vertical-align: middle;\n",
       "    }\n",
       "\n",
       "    .dataframe tbody tr th {\n",
       "        vertical-align: top;\n",
       "    }\n",
       "\n",
       "    .dataframe thead th {\n",
       "        text-align: right;\n",
       "    }\n",
       "</style>\n",
       "<table border=\"1\" class=\"dataframe\">\n",
       "  <thead>\n",
       "    <tr style=\"text-align: right;\">\n",
       "      <th></th>\n",
       "      <th>height</th>\n",
       "      <th>weight</th>\n",
       "      <th>h_sc</th>\n",
       "      <th>w_sc</th>\n",
       "      <th>h_mims</th>\n",
       "      <th>w_mima</th>\n",
       "      <th>height_1</th>\n",
       "      <th>h_1_sc</th>\n",
       "      <th>h_1_mima</th>\n",
       "      <th>tall</th>\n",
       "      <th>tail</th>\n",
       "    </tr>\n",
       "  </thead>\n",
       "  <tbody>\n",
       "    <tr>\n",
       "      <th>0</th>\n",
       "      <td>169.64</td>\n",
       "      <td>66.15</td>\n",
       "      <td>-0.054920</td>\n",
       "      <td>0.250791</td>\n",
       "      <td>0.485981</td>\n",
       "      <td>0.520280</td>\n",
       "      <td>200.00</td>\n",
       "      <td>7.226034</td>\n",
       "      <td>1.000000</td>\n",
       "      <td>NaN</td>\n",
       "      <td>standard</td>\n",
       "    </tr>\n",
       "    <tr>\n",
       "      <th>1</th>\n",
       "      <td>170.12</td>\n",
       "      <td>64.70</td>\n",
       "      <td>0.063420</td>\n",
       "      <td>-0.028368</td>\n",
       "      <td>0.504673</td>\n",
       "      <td>0.479720</td>\n",
       "      <td>170.12</td>\n",
       "      <td>0.054454</td>\n",
       "      <td>0.302521</td>\n",
       "      <td>NaN</td>\n",
       "      <td>standard</td>\n",
       "    </tr>\n",
       "    <tr>\n",
       "      <th>2</th>\n",
       "      <td>168.00</td>\n",
       "      <td>NaN</td>\n",
       "      <td>-0.459248</td>\n",
       "      <td>NaN</td>\n",
       "      <td>0.422118</td>\n",
       "      <td>NaN</td>\n",
       "      <td>168.00</td>\n",
       "      <td>-0.454373</td>\n",
       "      <td>0.253035</td>\n",
       "      <td>NaN</td>\n",
       "      <td>standard</td>\n",
       "    </tr>\n",
       "    <tr>\n",
       "      <th>3</th>\n",
       "      <td>170.72</td>\n",
       "      <td>60.90</td>\n",
       "      <td>0.211346</td>\n",
       "      <td>-0.759957</td>\n",
       "      <td>0.528037</td>\n",
       "      <td>0.373427</td>\n",
       "      <td>170.72</td>\n",
       "      <td>0.198462</td>\n",
       "      <td>0.316527</td>\n",
       "      <td>NaN</td>\n",
       "      <td>standard</td>\n",
       "    </tr>\n",
       "    <tr>\n",
       "      <th>4</th>\n",
       "      <td>167.48</td>\n",
       "      <td>56.05</td>\n",
       "      <td>-0.587450</td>\n",
       "      <td>-1.693695</td>\n",
       "      <td>0.401869</td>\n",
       "      <td>0.237762</td>\n",
       "      <td>167.48</td>\n",
       "      <td>-0.579179</td>\n",
       "      <td>0.240896</td>\n",
       "      <td>NaN</td>\n",
       "      <td>standard</td>\n",
       "    </tr>\n",
       "    <tr>\n",
       "      <th>...</th>\n",
       "      <td>...</td>\n",
       "      <td>...</td>\n",
       "      <td>...</td>\n",
       "      <td>...</td>\n",
       "      <td>...</td>\n",
       "      <td>...</td>\n",
       "      <td>...</td>\n",
       "      <td>...</td>\n",
       "      <td>...</td>\n",
       "      <td>...</td>\n",
       "      <td>...</td>\n",
       "    </tr>\n",
       "    <tr>\n",
       "      <th>995</th>\n",
       "      <td>171.68</td>\n",
       "      <td>70.65</td>\n",
       "      <td>0.448026</td>\n",
       "      <td>1.117146</td>\n",
       "      <td>0.565421</td>\n",
       "      <td>0.646154</td>\n",
       "      <td>171.68</td>\n",
       "      <td>0.428874</td>\n",
       "      <td>0.338936</td>\n",
       "      <td>NaN</td>\n",
       "      <td>standard</td>\n",
       "    </tr>\n",
       "    <tr>\n",
       "      <th>996</th>\n",
       "      <td>174.12</td>\n",
       "      <td>70.00</td>\n",
       "      <td>1.049588</td>\n",
       "      <td>0.992006</td>\n",
       "      <td>0.660436</td>\n",
       "      <td>0.627972</td>\n",
       "      <td>174.12</td>\n",
       "      <td>1.014505</td>\n",
       "      <td>0.395892</td>\n",
       "      <td>large</td>\n",
       "      <td>NaN</td>\n",
       "    </tr>\n",
       "    <tr>\n",
       "      <th>997</th>\n",
       "      <td>168.64</td>\n",
       "      <td>60.75</td>\n",
       "      <td>-0.301462</td>\n",
       "      <td>-0.788835</td>\n",
       "      <td>0.447040</td>\n",
       "      <td>0.369231</td>\n",
       "      <td>168.64</td>\n",
       "      <td>-0.300765</td>\n",
       "      <td>0.267974</td>\n",
       "      <td>NaN</td>\n",
       "      <td>standard</td>\n",
       "    </tr>\n",
       "    <tr>\n",
       "      <th>998</th>\n",
       "      <td>172.56</td>\n",
       "      <td>69.45</td>\n",
       "      <td>0.664983</td>\n",
       "      <td>0.886118</td>\n",
       "      <td>0.599688</td>\n",
       "      <td>0.612587</td>\n",
       "      <td>172.56</td>\n",
       "      <td>0.640085</td>\n",
       "      <td>0.359477</td>\n",
       "      <td>NaN</td>\n",
       "      <td>standard</td>\n",
       "    </tr>\n",
       "    <tr>\n",
       "      <th>999</th>\n",
       "      <td>170.88</td>\n",
       "      <td>53.55</td>\n",
       "      <td>0.250792</td>\n",
       "      <td>-2.175004</td>\n",
       "      <td>0.534268</td>\n",
       "      <td>0.167832</td>\n",
       "      <td>170.88</td>\n",
       "      <td>0.236864</td>\n",
       "      <td>0.320261</td>\n",
       "      <td>NaN</td>\n",
       "      <td>standard</td>\n",
       "    </tr>\n",
       "  </tbody>\n",
       "</table>\n",
       "<p>1000 rows × 11 columns</p>\n",
       "</div>"
      ],
      "text/plain": [
       "     height  weight      h_sc      w_sc    h_mims    w_mima  height_1  \\\n",
       "0    169.64   66.15 -0.054920  0.250791  0.485981  0.520280    200.00   \n",
       "1    170.12   64.70  0.063420 -0.028368  0.504673  0.479720    170.12   \n",
       "2    168.00     NaN -0.459248       NaN  0.422118       NaN    168.00   \n",
       "3    170.72   60.90  0.211346 -0.759957  0.528037  0.373427    170.72   \n",
       "4    167.48   56.05 -0.587450 -1.693695  0.401869  0.237762    167.48   \n",
       "..      ...     ...       ...       ...       ...       ...       ...   \n",
       "995  171.68   70.65  0.448026  1.117146  0.565421  0.646154    171.68   \n",
       "996  174.12   70.00  1.049588  0.992006  0.660436  0.627972    174.12   \n",
       "997  168.64   60.75 -0.301462 -0.788835  0.447040  0.369231    168.64   \n",
       "998  172.56   69.45  0.664983  0.886118  0.599688  0.612587    172.56   \n",
       "999  170.88   53.55  0.250792 -2.175004  0.534268  0.167832    170.88   \n",
       "\n",
       "       h_1_sc  h_1_mima   tall      tail  \n",
       "0    7.226034  1.000000    NaN  standard  \n",
       "1    0.054454  0.302521    NaN  standard  \n",
       "2   -0.454373  0.253035    NaN  standard  \n",
       "3    0.198462  0.316527    NaN  standard  \n",
       "4   -0.579179  0.240896    NaN  standard  \n",
       "..        ...       ...    ...       ...  \n",
       "995  0.428874  0.338936    NaN  standard  \n",
       "996  1.014505  0.395892  large       NaN  \n",
       "997 -0.300765  0.267974    NaN  standard  \n",
       "998  0.640085  0.359477    NaN  standard  \n",
       "999  0.236864  0.320261    NaN  standard  \n",
       "\n",
       "[1000 rows x 11 columns]"
      ]
     },
     "execution_count": 77,
     "metadata": {},
     "output_type": "execute_result"
    }
   ],
   "source": [
    "#키의 등급 나누기\n",
    "#키를 세 등급으로 나누는 방법 (표준편차를 기준으로)\n",
    "df=df_raw\n",
    "df.loc[df['height']>=174, 'tall']='large'\n",
    "df.loc[(df['height']<174)&(df['height']>=166),'tail']='standard'\n",
    "df.loc[df['height']<166,'tail']='small'\n",
    "df"
   ]
  },
  {
   "cell_type": "code",
   "execution_count": 79,
   "id": "logical-adult",
   "metadata": {},
   "outputs": [
    {
     "data": {
      "text/plain": [
       "standard    673\n",
       "small       167\n",
       "Name: tail, dtype: int64"
      ]
     },
     "execution_count": 79,
     "metadata": {},
     "output_type": "execute_result"
    }
   ],
   "source": [
    "#카테고리 데이터의 구성비\n",
    "df['tail'].value_counts()"
   ]
  },
  {
   "cell_type": "code",
   "execution_count": 80,
   "id": "homeless-lottery",
   "metadata": {},
   "outputs": [
    {
     "data": {
      "text/plain": [
       "standard    67.3\n",
       "small       16.7\n",
       "Name: tail, dtype: float64"
      ]
     },
     "execution_count": 80,
     "metadata": {},
     "output_type": "execute_result"
    }
   ],
   "source": [
    "# 구성 비율(%)\n",
    "df['tail'].value_counts()*100/len(df)"
   ]
  },
  {
   "cell_type": "code",
   "execution_count": 81,
   "id": "reasonable-enemy",
   "metadata": {},
   "outputs": [
    {
     "data": {
      "text/html": [
       "<div>\n",
       "<style scoped>\n",
       "    .dataframe tbody tr th:only-of-type {\n",
       "        vertical-align: middle;\n",
       "    }\n",
       "\n",
       "    .dataframe tbody tr th {\n",
       "        vertical-align: top;\n",
       "    }\n",
       "\n",
       "    .dataframe thead th {\n",
       "        text-align: right;\n",
       "    }\n",
       "</style>\n",
       "<table border=\"1\" class=\"dataframe\">\n",
       "  <thead>\n",
       "    <tr style=\"text-align: right;\">\n",
       "      <th></th>\n",
       "      <th>small</th>\n",
       "      <th>standard</th>\n",
       "    </tr>\n",
       "  </thead>\n",
       "  <tbody>\n",
       "    <tr>\n",
       "      <th>0</th>\n",
       "      <td>0</td>\n",
       "      <td>1</td>\n",
       "    </tr>\n",
       "    <tr>\n",
       "      <th>1</th>\n",
       "      <td>0</td>\n",
       "      <td>1</td>\n",
       "    </tr>\n",
       "    <tr>\n",
       "      <th>2</th>\n",
       "      <td>0</td>\n",
       "      <td>1</td>\n",
       "    </tr>\n",
       "    <tr>\n",
       "      <th>3</th>\n",
       "      <td>0</td>\n",
       "      <td>1</td>\n",
       "    </tr>\n",
       "    <tr>\n",
       "      <th>4</th>\n",
       "      <td>0</td>\n",
       "      <td>1</td>\n",
       "    </tr>\n",
       "  </tbody>\n",
       "</table>\n",
       "</div>"
      ],
      "text/plain": [
       "   small  standard\n",
       "0      0         1\n",
       "1      0         1\n",
       "2      0         1\n",
       "3      0         1\n",
       "4      0         1"
      ]
     },
     "execution_count": 81,
     "metadata": {},
     "output_type": "execute_result"
    }
   ],
   "source": [
    "##원 핫 인코딩\n",
    "#하나의 변수만 1로 변경\n",
    "#카테고리 변수의 원핫 인코딩(데이터 프레임을 만든다)\n",
    "df_tail=pd.get_dummies(df['tail'])\n",
    "df_tail[:5]"
   ]
  },
  {
   "cell_type": "code",
   "execution_count": 82,
   "id": "solved-smart",
   "metadata": {},
   "outputs": [
    {
     "data": {
      "text/html": [
       "<div>\n",
       "<style scoped>\n",
       "    .dataframe tbody tr th:only-of-type {\n",
       "        vertical-align: middle;\n",
       "    }\n",
       "\n",
       "    .dataframe tbody tr th {\n",
       "        vertical-align: top;\n",
       "    }\n",
       "\n",
       "    .dataframe thead th {\n",
       "        text-align: right;\n",
       "    }\n",
       "</style>\n",
       "<table border=\"1\" class=\"dataframe\">\n",
       "  <thead>\n",
       "    <tr style=\"text-align: right;\">\n",
       "      <th></th>\n",
       "      <th>height</th>\n",
       "      <th>weight</th>\n",
       "      <th>h_sc</th>\n",
       "      <th>w_sc</th>\n",
       "      <th>h_mims</th>\n",
       "      <th>w_mima</th>\n",
       "      <th>height_1</th>\n",
       "      <th>h_1_sc</th>\n",
       "      <th>h_1_mima</th>\n",
       "      <th>tall</th>\n",
       "      <th>tail</th>\n",
       "      <th>small</th>\n",
       "      <th>standard</th>\n",
       "    </tr>\n",
       "  </thead>\n",
       "  <tbody>\n",
       "    <tr>\n",
       "      <th>0</th>\n",
       "      <td>169.64</td>\n",
       "      <td>66.15</td>\n",
       "      <td>-0.054920</td>\n",
       "      <td>0.250791</td>\n",
       "      <td>0.485981</td>\n",
       "      <td>0.520280</td>\n",
       "      <td>200.00</td>\n",
       "      <td>7.226034</td>\n",
       "      <td>1.000000</td>\n",
       "      <td>NaN</td>\n",
       "      <td>standard</td>\n",
       "      <td>0</td>\n",
       "      <td>1</td>\n",
       "    </tr>\n",
       "    <tr>\n",
       "      <th>1</th>\n",
       "      <td>170.12</td>\n",
       "      <td>64.70</td>\n",
       "      <td>0.063420</td>\n",
       "      <td>-0.028368</td>\n",
       "      <td>0.504673</td>\n",
       "      <td>0.479720</td>\n",
       "      <td>170.12</td>\n",
       "      <td>0.054454</td>\n",
       "      <td>0.302521</td>\n",
       "      <td>NaN</td>\n",
       "      <td>standard</td>\n",
       "      <td>0</td>\n",
       "      <td>1</td>\n",
       "    </tr>\n",
       "    <tr>\n",
       "      <th>2</th>\n",
       "      <td>168.00</td>\n",
       "      <td>NaN</td>\n",
       "      <td>-0.459248</td>\n",
       "      <td>NaN</td>\n",
       "      <td>0.422118</td>\n",
       "      <td>NaN</td>\n",
       "      <td>168.00</td>\n",
       "      <td>-0.454373</td>\n",
       "      <td>0.253035</td>\n",
       "      <td>NaN</td>\n",
       "      <td>standard</td>\n",
       "      <td>0</td>\n",
       "      <td>1</td>\n",
       "    </tr>\n",
       "    <tr>\n",
       "      <th>3</th>\n",
       "      <td>170.72</td>\n",
       "      <td>60.90</td>\n",
       "      <td>0.211346</td>\n",
       "      <td>-0.759957</td>\n",
       "      <td>0.528037</td>\n",
       "      <td>0.373427</td>\n",
       "      <td>170.72</td>\n",
       "      <td>0.198462</td>\n",
       "      <td>0.316527</td>\n",
       "      <td>NaN</td>\n",
       "      <td>standard</td>\n",
       "      <td>0</td>\n",
       "      <td>1</td>\n",
       "    </tr>\n",
       "    <tr>\n",
       "      <th>4</th>\n",
       "      <td>167.48</td>\n",
       "      <td>56.05</td>\n",
       "      <td>-0.587450</td>\n",
       "      <td>-1.693695</td>\n",
       "      <td>0.401869</td>\n",
       "      <td>0.237762</td>\n",
       "      <td>167.48</td>\n",
       "      <td>-0.579179</td>\n",
       "      <td>0.240896</td>\n",
       "      <td>NaN</td>\n",
       "      <td>standard</td>\n",
       "      <td>0</td>\n",
       "      <td>1</td>\n",
       "    </tr>\n",
       "  </tbody>\n",
       "</table>\n",
       "</div>"
      ],
      "text/plain": [
       "   height  weight      h_sc      w_sc    h_mims    w_mima  height_1    h_1_sc  \\\n",
       "0  169.64   66.15 -0.054920  0.250791  0.485981  0.520280    200.00  7.226034   \n",
       "1  170.12   64.70  0.063420 -0.028368  0.504673  0.479720    170.12  0.054454   \n",
       "2  168.00     NaN -0.459248       NaN  0.422118       NaN    168.00 -0.454373   \n",
       "3  170.72   60.90  0.211346 -0.759957  0.528037  0.373427    170.72  0.198462   \n",
       "4  167.48   56.05 -0.587450 -1.693695  0.401869  0.237762    167.48 -0.579179   \n",
       "\n",
       "   h_1_mima tall      tail  small  standard  \n",
       "0  1.000000  NaN  standard      0         1  \n",
       "1  0.302521  NaN  standard      0         1  \n",
       "2  0.253035  NaN  standard      0         1  \n",
       "3  0.316527  NaN  standard      0         1  \n",
       "4  0.240896  NaN  standard      0         1  "
      ]
     },
     "execution_count": 82,
     "metadata": {},
     "output_type": "execute_result"
    }
   ],
   "source": [
    "#원핫 인코딩된 데이터 프레임 합치기 (가로방향)\n",
    "df_all=pd.concat((df,df_tail),axis=1)\n",
    "df_all[:5]"
   ]
  },
  {
   "cell_type": "code",
   "execution_count": 84,
   "id": "nominated-nudist",
   "metadata": {},
   "outputs": [
    {
     "data": {
      "text/plain": [
       "Index(['height', 'weight', 'h_sc', 'w_sc', 'h_mims', 'w_mima', 'height_1',\n",
       "       'h_1_sc', 'h_1_mima', 'tall', 'tail', 'small', 'standard'],\n",
       "      dtype='object')"
      ]
     },
     "execution_count": 84,
     "metadata": {},
     "output_type": "execute_result"
    }
   ],
   "source": [
    "## 최종 사용 데이터\n",
    "#모든 컬럼명 보기\n",
    "df_all.columns"
   ]
  },
  {
   "cell_type": "code",
   "execution_count": 86,
   "id": "entitled-combine",
   "metadata": {},
   "outputs": [
    {
     "data": {
      "text/html": [
       "<div>\n",
       "<style scoped>\n",
       "    .dataframe tbody tr th:only-of-type {\n",
       "        vertical-align: middle;\n",
       "    }\n",
       "\n",
       "    .dataframe tbody tr th {\n",
       "        vertical-align: top;\n",
       "    }\n",
       "\n",
       "    .dataframe thead th {\n",
       "        text-align: right;\n",
       "    }\n",
       "</style>\n",
       "<table border=\"1\" class=\"dataframe\">\n",
       "  <thead>\n",
       "    <tr style=\"text-align: right;\">\n",
       "      <th></th>\n",
       "      <th>h_sc</th>\n",
       "      <th>w_sc</th>\n",
       "      <th>small</th>\n",
       "      <th>standard</th>\n",
       "    </tr>\n",
       "  </thead>\n",
       "  <tbody>\n",
       "    <tr>\n",
       "      <th>0</th>\n",
       "      <td>-0.054920</td>\n",
       "      <td>0.250791</td>\n",
       "      <td>0</td>\n",
       "      <td>1</td>\n",
       "    </tr>\n",
       "    <tr>\n",
       "      <th>1</th>\n",
       "      <td>0.063420</td>\n",
       "      <td>-0.028368</td>\n",
       "      <td>0</td>\n",
       "      <td>1</td>\n",
       "    </tr>\n",
       "    <tr>\n",
       "      <th>2</th>\n",
       "      <td>-0.459248</td>\n",
       "      <td>NaN</td>\n",
       "      <td>0</td>\n",
       "      <td>1</td>\n",
       "    </tr>\n",
       "    <tr>\n",
       "      <th>3</th>\n",
       "      <td>0.211346</td>\n",
       "      <td>-0.759957</td>\n",
       "      <td>0</td>\n",
       "      <td>1</td>\n",
       "    </tr>\n",
       "    <tr>\n",
       "      <th>4</th>\n",
       "      <td>-0.587450</td>\n",
       "      <td>-1.693695</td>\n",
       "      <td>0</td>\n",
       "      <td>1</td>\n",
       "    </tr>\n",
       "  </tbody>\n",
       "</table>\n",
       "</div>"
      ],
      "text/plain": [
       "       h_sc      w_sc  small  standard\n",
       "0 -0.054920  0.250791      0         1\n",
       "1  0.063420 -0.028368      0         1\n",
       "2 -0.459248       NaN      0         1\n",
       "3  0.211346 -0.759957      0         1\n",
       "4 -0.587450 -1.693695      0         1"
      ]
     },
     "execution_count": 86,
     "metadata": {},
     "output_type": "execute_result"
    }
   ],
   "source": [
    "#분석에 사용할 컬럼들을 선택\n",
    "x=df_all[['h_sc','w_sc','small','standard']]\n",
    "x[:5]"
   ]
  },
  {
   "cell_type": "code",
   "execution_count": null,
   "id": "inner-increase",
   "metadata": {},
   "outputs": [],
   "source": []
  }
 ],
 "metadata": {
  "kernelspec": {
   "display_name": "Python 3",
   "language": "python",
   "name": "python3"
  },
  "language_info": {
   "codemirror_mode": {
    "name": "ipython",
    "version": 3
   },
   "file_extension": ".py",
   "mimetype": "text/x-python",
   "name": "python",
   "nbconvert_exporter": "python",
   "pygments_lexer": "ipython3",
   "version": "3.8.5"
  }
 },
 "nbformat": 4,
 "nbformat_minor": 5
}
